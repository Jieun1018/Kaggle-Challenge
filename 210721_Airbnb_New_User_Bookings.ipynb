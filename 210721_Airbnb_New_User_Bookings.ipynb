{
  "nbformat": 4,
  "nbformat_minor": 0,
  "metadata": {
    "colab": {
      "name": "210721_Airbnb New User Bookings.ipynb",
      "provenance": [],
      "collapsed_sections": [],
      "authorship_tag": "ABX9TyPlNM9G+twkkqggp/PuCTc6"
    },
    "kernelspec": {
      "name": "python3",
      "display_name": "Python 3"
    },
    "language_info": {
      "name": "python"
    },
    "accelerator": "GPU"
  },
  "cells": [
    {
      "cell_type": "code",
      "metadata": {
        "id": "IT_SbObfnU5z"
      },
      "source": [
        "import os\n",
        "\n",
        "os.environ['KAGGLE_USERNAME'] = 'jieunc'\n",
        "os.environ['KAGGLE_KEY'] = 'cc2fe5f93d99e1806b011651482b41fd'"
      ],
      "execution_count": null,
      "outputs": []
    },
    {
      "cell_type": "code",
      "metadata": {
        "colab": {
          "base_uri": "https://localhost:8080/"
        },
        "id": "oWuZK6zMnhTj",
        "outputId": "a37b8338-9f56-4f7c-eb1a-7d266d740fc0"
      },
      "source": [
        "!kaggle -h"
      ],
      "execution_count": null,
      "outputs": [
        {
          "output_type": "stream",
          "text": [
            "usage: kaggle [-h] [-v] {competitions,c,datasets,d,kernels,k,config} ...\n",
            "\n",
            "optional arguments:\n",
            "  -h, --help            show this help message and exit\n",
            "  -v, --version         show program's version number and exit\n",
            "\n",
            "commands:\n",
            "  {competitions,c,datasets,d,kernels,k,config}\n",
            "                        Use one of:\n",
            "                        competitions {list, files, download, submit, submissions, leaderboard}\n",
            "                        datasets {list, files, download, create, version, init, metadata, status}\n",
            "                        config {view, set, unset}\n",
            "    competitions        Commands related to Kaggle competitions\n",
            "    datasets            Commands related to Kaggle datasets\n",
            "    kernels             Commands related to Kaggle kernels\n",
            "    config              Configuration settings\n"
          ],
          "name": "stdout"
        }
      ]
    },
    {
      "cell_type": "code",
      "metadata": {
        "colab": {
          "base_uri": "https://localhost:8080/"
        },
        "id": "ESGDtPnWnJeK",
        "outputId": "47a6506f-ca2c-46c8-d57e-cb2e3e271ef2"
      },
      "source": [
        "!kaggle competitions download -c airbnb-recruiting-new-user-bookings"
      ],
      "execution_count": null,
      "outputs": [
        {
          "output_type": "stream",
          "text": [
            "Warning: Looks like you're using an outdated API Version, please consider updating (server 1.5.12 / client 1.5.4)\n",
            "Downloading countries.csv.zip to /content\n",
            "  0% 0.00/546 [00:00<?, ?B/s]\n",
            "100% 546/546 [00:00<00:00, 949kB/s]\n",
            "Downloading sample_submission_NDF.csv.zip to /content\n",
            "  0% 0.00/478k [00:00<?, ?B/s]\n",
            "100% 478k/478k [00:00<00:00, 19.0MB/s]\n",
            "Downloading train_users_2.csv.zip to /content\n",
            "100% 4.07M/4.07M [00:00<00:00, 42.6MB/s]\n",
            "\n",
            "Downloading sessions.csv.zip to /content\n",
            " 57% 34.0M/59.1M [00:00<00:00, 108MB/s] \n",
            "100% 59.1M/59.1M [00:00<00:00, 197MB/s]\n",
            "Downloading age_gender_bkts.csv.zip to /content\n",
            "  0% 0.00/2.46k [00:00<?, ?B/s]\n",
            "100% 2.46k/2.46k [00:00<00:00, 2.37MB/s]\n",
            "Downloading test_users.csv.zip to /content\n",
            "  0% 0.00/1.03M [00:00<?, ?B/s]\n",
            "100% 1.03M/1.03M [00:00<00:00, 139MB/s]\n"
          ],
          "name": "stdout"
        }
      ]
    },
    {
      "cell_type": "code",
      "metadata": {
        "colab": {
          "base_uri": "https://localhost:8080/"
        },
        "id": "W_v6eDhmnlCO",
        "outputId": "0e4e1744-f239-4046-a0ab-d0df33468a74"
      },
      "source": [
        "!unzip '*zip'"
      ],
      "execution_count": null,
      "outputs": [
        {
          "output_type": "stream",
          "text": [
            "Archive:  sample_submission_NDF.csv.zip\n",
            "  inflating: sample_submission_NDF.csv  \n",
            "\n",
            "Archive:  test_users.csv.zip\n",
            "  inflating: test_users.csv          \n",
            "\n",
            "Archive:  sessions.csv.zip\n",
            "  inflating: sessions.csv            \n",
            "\n",
            "Archive:  countries.csv.zip\n",
            "  inflating: countries.csv           \n",
            "\n",
            "Archive:  train_users_2.csv.zip\n",
            "  inflating: train_users_2.csv       \n",
            "\n",
            "Archive:  age_gender_bkts.csv.zip\n",
            "  inflating: age_gender_bkts.csv     \n",
            "\n",
            "6 archives were successfully processed.\n"
          ],
          "name": "stdout"
        }
      ]
    },
    {
      "cell_type": "code",
      "metadata": {
        "colab": {
          "base_uri": "https://localhost:8080/"
        },
        "id": "mOLDRAd3nrfS",
        "outputId": "ffea8d0f-aaca-47c2-ae30-8e64740e0873"
      },
      "source": [
        "!ls"
      ],
      "execution_count": null,
      "outputs": [
        {
          "output_type": "stream",
          "text": [
            "age_gender_bkts.csv\t sample_submission_NDF.csv\ttest_users.csv.zip\n",
            "age_gender_bkts.csv.zip  sample_submission_NDF.csv.zip\ttrain_users_2.csv\n",
            "countries.csv\t\t sessions.csv\t\t\ttrain_users_2.csv.zip\n",
            "countries.csv.zip\t sessions.csv.zip\n",
            "sample_data\t\t test_users.csv\n"
          ],
          "name": "stdout"
        }
      ]
    },
    {
      "cell_type": "markdown",
      "metadata": {
        "id": "dkefao7dvg8E"
      },
      "source": [
        "**module import**"
      ]
    },
    {
      "cell_type": "code",
      "metadata": {
        "id": "aEhRoM9pdZ8s"
      },
      "source": [
        "import pandas as pd \n",
        "import numpy as np \n",
        "import seaborn as sns\n",
        "import matplotlib.pyplot as plt\n",
        "sns.set()\n",
        "\n",
        "from datetime import datetime\n",
        "from sklearn.preprocessing import LabelEncoder\n",
        "from xgboost.sklearn import XGBClassifier\n",
        "\n",
        "import warnings\n",
        "warnings.filterwarnings(\"ignore\")\n",
        "\n",
        "import os\n",
        "for dirname, _, filenames in os.walk('/kaggle/input'):\n",
        "    for filename in filenames:\n",
        "        print(os.path.join(dirname, filename))\n",
        "\n",
        "#add colores for plot bars\n",
        "colors = ['#1f77b4', '#ff7f0e', '#2ca02c', '#d62728', '#9467bd',\n",
        "          '#8c564b', '#e377c2', '#7f7f7f', '#bcbd22', '#17becf']  "
      ],
      "execution_count": null,
      "outputs": []
    },
    {
      "cell_type": "code",
      "metadata": {
        "id": "vR56WJjudgX3"
      },
      "source": [
        "# convert date columns into datetime format while loading\n",
        "train_df = pd.read_csv('/content/train_users_2.csv', parse_dates=['timestamp_first_active','date_account_created','date_first_booking'])\n",
        "\n",
        "test_df= pd.read_csv('/content/test_users.csv',parse_dates=['timestamp_first_active','date_account_created','date_first_booking'])\n",
        "\n",
        "bookings_data  = pd.read_csv(\"/content/train_users_2.csv.zip\")"
      ],
      "execution_count": null,
      "outputs": []
    },
    {
      "cell_type": "code",
      "metadata": {
        "colab": {
          "base_uri": "https://localhost:8080/",
          "height": 257
        },
        "id": "UxrZrSgixAu9",
        "outputId": "5fb5d9e6-05a8-44a0-9686-435af5a82ae3"
      },
      "source": [
        "train_df.head()"
      ],
      "execution_count": null,
      "outputs": [
        {
          "output_type": "execute_result",
          "data": {
            "text/html": [
              "<div>\n",
              "<style scoped>\n",
              "    .dataframe tbody tr th:only-of-type {\n",
              "        vertical-align: middle;\n",
              "    }\n",
              "\n",
              "    .dataframe tbody tr th {\n",
              "        vertical-align: top;\n",
              "    }\n",
              "\n",
              "    .dataframe thead th {\n",
              "        text-align: right;\n",
              "    }\n",
              "</style>\n",
              "<table border=\"1\" class=\"dataframe\">\n",
              "  <thead>\n",
              "    <tr style=\"text-align: right;\">\n",
              "      <th></th>\n",
              "      <th>id</th>\n",
              "      <th>date_account_created</th>\n",
              "      <th>timestamp_first_active</th>\n",
              "      <th>date_first_booking</th>\n",
              "      <th>gender</th>\n",
              "      <th>age</th>\n",
              "      <th>signup_method</th>\n",
              "      <th>signup_flow</th>\n",
              "      <th>language</th>\n",
              "      <th>affiliate_channel</th>\n",
              "      <th>affiliate_provider</th>\n",
              "      <th>first_affiliate_tracked</th>\n",
              "      <th>signup_app</th>\n",
              "      <th>first_device_type</th>\n",
              "      <th>first_browser</th>\n",
              "      <th>country_destination</th>\n",
              "    </tr>\n",
              "  </thead>\n",
              "  <tbody>\n",
              "    <tr>\n",
              "      <th>0</th>\n",
              "      <td>gxn3p5htnn</td>\n",
              "      <td>2010-06-28</td>\n",
              "      <td>2009-03-19 04:32:55</td>\n",
              "      <td>NaT</td>\n",
              "      <td>-unknown-</td>\n",
              "      <td>NaN</td>\n",
              "      <td>facebook</td>\n",
              "      <td>0</td>\n",
              "      <td>en</td>\n",
              "      <td>direct</td>\n",
              "      <td>direct</td>\n",
              "      <td>untracked</td>\n",
              "      <td>Web</td>\n",
              "      <td>Mac Desktop</td>\n",
              "      <td>Chrome</td>\n",
              "      <td>NDF</td>\n",
              "    </tr>\n",
              "    <tr>\n",
              "      <th>1</th>\n",
              "      <td>820tgsjxq7</td>\n",
              "      <td>2011-05-25</td>\n",
              "      <td>2009-05-23 17:48:09</td>\n",
              "      <td>NaT</td>\n",
              "      <td>MALE</td>\n",
              "      <td>38.0</td>\n",
              "      <td>facebook</td>\n",
              "      <td>0</td>\n",
              "      <td>en</td>\n",
              "      <td>seo</td>\n",
              "      <td>google</td>\n",
              "      <td>untracked</td>\n",
              "      <td>Web</td>\n",
              "      <td>Mac Desktop</td>\n",
              "      <td>Chrome</td>\n",
              "      <td>NDF</td>\n",
              "    </tr>\n",
              "    <tr>\n",
              "      <th>2</th>\n",
              "      <td>4ft3gnwmtx</td>\n",
              "      <td>2010-09-28</td>\n",
              "      <td>2009-06-09 23:12:47</td>\n",
              "      <td>2010-08-02</td>\n",
              "      <td>FEMALE</td>\n",
              "      <td>56.0</td>\n",
              "      <td>basic</td>\n",
              "      <td>3</td>\n",
              "      <td>en</td>\n",
              "      <td>direct</td>\n",
              "      <td>direct</td>\n",
              "      <td>untracked</td>\n",
              "      <td>Web</td>\n",
              "      <td>Windows Desktop</td>\n",
              "      <td>IE</td>\n",
              "      <td>US</td>\n",
              "    </tr>\n",
              "    <tr>\n",
              "      <th>3</th>\n",
              "      <td>bjjt8pjhuk</td>\n",
              "      <td>2011-12-05</td>\n",
              "      <td>2009-10-31 06:01:29</td>\n",
              "      <td>2012-09-08</td>\n",
              "      <td>FEMALE</td>\n",
              "      <td>42.0</td>\n",
              "      <td>facebook</td>\n",
              "      <td>0</td>\n",
              "      <td>en</td>\n",
              "      <td>direct</td>\n",
              "      <td>direct</td>\n",
              "      <td>untracked</td>\n",
              "      <td>Web</td>\n",
              "      <td>Mac Desktop</td>\n",
              "      <td>Firefox</td>\n",
              "      <td>other</td>\n",
              "    </tr>\n",
              "    <tr>\n",
              "      <th>4</th>\n",
              "      <td>87mebub9p4</td>\n",
              "      <td>2010-09-14</td>\n",
              "      <td>2009-12-08 06:11:05</td>\n",
              "      <td>2010-02-18</td>\n",
              "      <td>-unknown-</td>\n",
              "      <td>41.0</td>\n",
              "      <td>basic</td>\n",
              "      <td>0</td>\n",
              "      <td>en</td>\n",
              "      <td>direct</td>\n",
              "      <td>direct</td>\n",
              "      <td>untracked</td>\n",
              "      <td>Web</td>\n",
              "      <td>Mac Desktop</td>\n",
              "      <td>Chrome</td>\n",
              "      <td>US</td>\n",
              "    </tr>\n",
              "  </tbody>\n",
              "</table>\n",
              "</div>"
            ],
            "text/plain": [
              "           id date_account_created  ... first_browser country_destination\n",
              "0  gxn3p5htnn           2010-06-28  ...        Chrome                 NDF\n",
              "1  820tgsjxq7           2011-05-25  ...        Chrome                 NDF\n",
              "2  4ft3gnwmtx           2010-09-28  ...            IE                  US\n",
              "3  bjjt8pjhuk           2011-12-05  ...       Firefox               other\n",
              "4  87mebub9p4           2010-09-14  ...        Chrome                  US\n",
              "\n",
              "[5 rows x 16 columns]"
            ]
          },
          "metadata": {
            "tags": []
          },
          "execution_count": 8
        }
      ]
    },
    {
      "cell_type": "code",
      "metadata": {
        "colab": {
          "base_uri": "https://localhost:8080/",
          "height": 290
        },
        "id": "h08mUNFDxGji",
        "outputId": "c32742cd-cc66-41e2-e4fd-cf8f6a450965"
      },
      "source": [
        "test_df.head()"
      ],
      "execution_count": null,
      "outputs": [
        {
          "output_type": "execute_result",
          "data": {
            "text/html": [
              "<div>\n",
              "<style scoped>\n",
              "    .dataframe tbody tr th:only-of-type {\n",
              "        vertical-align: middle;\n",
              "    }\n",
              "\n",
              "    .dataframe tbody tr th {\n",
              "        vertical-align: top;\n",
              "    }\n",
              "\n",
              "    .dataframe thead th {\n",
              "        text-align: right;\n",
              "    }\n",
              "</style>\n",
              "<table border=\"1\" class=\"dataframe\">\n",
              "  <thead>\n",
              "    <tr style=\"text-align: right;\">\n",
              "      <th></th>\n",
              "      <th>id</th>\n",
              "      <th>date_account_created</th>\n",
              "      <th>timestamp_first_active</th>\n",
              "      <th>date_first_booking</th>\n",
              "      <th>gender</th>\n",
              "      <th>age</th>\n",
              "      <th>signup_method</th>\n",
              "      <th>signup_flow</th>\n",
              "      <th>language</th>\n",
              "      <th>affiliate_channel</th>\n",
              "      <th>affiliate_provider</th>\n",
              "      <th>first_affiliate_tracked</th>\n",
              "      <th>signup_app</th>\n",
              "      <th>first_device_type</th>\n",
              "      <th>first_browser</th>\n",
              "    </tr>\n",
              "  </thead>\n",
              "  <tbody>\n",
              "    <tr>\n",
              "      <th>0</th>\n",
              "      <td>5uwns89zht</td>\n",
              "      <td>2014-07-01</td>\n",
              "      <td>2014-07-01 00:00:06</td>\n",
              "      <td>NaT</td>\n",
              "      <td>FEMALE</td>\n",
              "      <td>35.0</td>\n",
              "      <td>facebook</td>\n",
              "      <td>0</td>\n",
              "      <td>en</td>\n",
              "      <td>direct</td>\n",
              "      <td>direct</td>\n",
              "      <td>untracked</td>\n",
              "      <td>Moweb</td>\n",
              "      <td>iPhone</td>\n",
              "      <td>Mobile Safari</td>\n",
              "    </tr>\n",
              "    <tr>\n",
              "      <th>1</th>\n",
              "      <td>jtl0dijy2j</td>\n",
              "      <td>2014-07-01</td>\n",
              "      <td>2014-07-01 00:00:51</td>\n",
              "      <td>NaT</td>\n",
              "      <td>-unknown-</td>\n",
              "      <td>NaN</td>\n",
              "      <td>basic</td>\n",
              "      <td>0</td>\n",
              "      <td>en</td>\n",
              "      <td>direct</td>\n",
              "      <td>direct</td>\n",
              "      <td>untracked</td>\n",
              "      <td>Moweb</td>\n",
              "      <td>iPhone</td>\n",
              "      <td>Mobile Safari</td>\n",
              "    </tr>\n",
              "    <tr>\n",
              "      <th>2</th>\n",
              "      <td>xx0ulgorjt</td>\n",
              "      <td>2014-07-01</td>\n",
              "      <td>2014-07-01 00:01:48</td>\n",
              "      <td>NaT</td>\n",
              "      <td>-unknown-</td>\n",
              "      <td>NaN</td>\n",
              "      <td>basic</td>\n",
              "      <td>0</td>\n",
              "      <td>en</td>\n",
              "      <td>direct</td>\n",
              "      <td>direct</td>\n",
              "      <td>linked</td>\n",
              "      <td>Web</td>\n",
              "      <td>Windows Desktop</td>\n",
              "      <td>Chrome</td>\n",
              "    </tr>\n",
              "    <tr>\n",
              "      <th>3</th>\n",
              "      <td>6c6puo6ix0</td>\n",
              "      <td>2014-07-01</td>\n",
              "      <td>2014-07-01 00:02:15</td>\n",
              "      <td>NaT</td>\n",
              "      <td>-unknown-</td>\n",
              "      <td>NaN</td>\n",
              "      <td>basic</td>\n",
              "      <td>0</td>\n",
              "      <td>en</td>\n",
              "      <td>direct</td>\n",
              "      <td>direct</td>\n",
              "      <td>linked</td>\n",
              "      <td>Web</td>\n",
              "      <td>Windows Desktop</td>\n",
              "      <td>IE</td>\n",
              "    </tr>\n",
              "    <tr>\n",
              "      <th>4</th>\n",
              "      <td>czqhjk3yfe</td>\n",
              "      <td>2014-07-01</td>\n",
              "      <td>2014-07-01 00:03:05</td>\n",
              "      <td>NaT</td>\n",
              "      <td>-unknown-</td>\n",
              "      <td>NaN</td>\n",
              "      <td>basic</td>\n",
              "      <td>0</td>\n",
              "      <td>en</td>\n",
              "      <td>direct</td>\n",
              "      <td>direct</td>\n",
              "      <td>untracked</td>\n",
              "      <td>Web</td>\n",
              "      <td>Mac Desktop</td>\n",
              "      <td>Safari</td>\n",
              "    </tr>\n",
              "  </tbody>\n",
              "</table>\n",
              "</div>"
            ],
            "text/plain": [
              "           id date_account_created  ... first_device_type  first_browser\n",
              "0  5uwns89zht           2014-07-01  ...            iPhone  Mobile Safari\n",
              "1  jtl0dijy2j           2014-07-01  ...            iPhone  Mobile Safari\n",
              "2  xx0ulgorjt           2014-07-01  ...   Windows Desktop         Chrome\n",
              "3  6c6puo6ix0           2014-07-01  ...   Windows Desktop             IE\n",
              "4  czqhjk3yfe           2014-07-01  ...       Mac Desktop         Safari\n",
              "\n",
              "[5 rows x 15 columns]"
            ]
          },
          "metadata": {
            "tags": []
          },
          "execution_count": 9
        }
      ]
    },
    {
      "cell_type": "code",
      "metadata": {
        "colab": {
          "base_uri": "https://localhost:8080/"
        },
        "id": "5ze08G9JxJtf",
        "outputId": "55d739b3-53e4-428f-8913-e648e835cf69"
      },
      "source": [
        "print(\"Training set users: \", train_df.shape[0], \", Test set users: \", \n",
        "      test_df.shape[0])\n",
        "print(\"In total users: \", train_df.shape[0] + test_df.shape[0])"
      ],
      "execution_count": null,
      "outputs": [
        {
          "output_type": "stream",
          "text": [
            "Training set users:  213451 , Test set users:  62096\n",
            "In total users:  275547\n"
          ],
          "name": "stdout"
        }
      ]
    },
    {
      "cell_type": "code",
      "metadata": {
        "colab": {
          "base_uri": "https://localhost:8080/",
          "height": 257
        },
        "id": "LFpEDcuRxdc2",
        "outputId": "99af1ff1-2a46-43ed-a974-686fece1791f"
      },
      "source": [
        "# Merge train and test users\n",
        "train_test_combin = pd.concat((train_df, test_df), axis = 0, ignore_index = True)\n",
        "\n",
        "# Remove ID's since now we are not interested in making predictions\n",
        "train_test_combin.drop('id',axis=1, inplace=True)\n",
        "\n",
        "train_test_combin.head()"
      ],
      "execution_count": null,
      "outputs": [
        {
          "output_type": "execute_result",
          "data": {
            "text/html": [
              "<div>\n",
              "<style scoped>\n",
              "    .dataframe tbody tr th:only-of-type {\n",
              "        vertical-align: middle;\n",
              "    }\n",
              "\n",
              "    .dataframe tbody tr th {\n",
              "        vertical-align: top;\n",
              "    }\n",
              "\n",
              "    .dataframe thead th {\n",
              "        text-align: right;\n",
              "    }\n",
              "</style>\n",
              "<table border=\"1\" class=\"dataframe\">\n",
              "  <thead>\n",
              "    <tr style=\"text-align: right;\">\n",
              "      <th></th>\n",
              "      <th>date_account_created</th>\n",
              "      <th>timestamp_first_active</th>\n",
              "      <th>date_first_booking</th>\n",
              "      <th>gender</th>\n",
              "      <th>age</th>\n",
              "      <th>signup_method</th>\n",
              "      <th>signup_flow</th>\n",
              "      <th>language</th>\n",
              "      <th>affiliate_channel</th>\n",
              "      <th>affiliate_provider</th>\n",
              "      <th>first_affiliate_tracked</th>\n",
              "      <th>signup_app</th>\n",
              "      <th>first_device_type</th>\n",
              "      <th>first_browser</th>\n",
              "      <th>country_destination</th>\n",
              "    </tr>\n",
              "  </thead>\n",
              "  <tbody>\n",
              "    <tr>\n",
              "      <th>0</th>\n",
              "      <td>2010-06-28</td>\n",
              "      <td>2009-03-19 04:32:55</td>\n",
              "      <td>NaT</td>\n",
              "      <td>-unknown-</td>\n",
              "      <td>NaN</td>\n",
              "      <td>facebook</td>\n",
              "      <td>0</td>\n",
              "      <td>en</td>\n",
              "      <td>direct</td>\n",
              "      <td>direct</td>\n",
              "      <td>untracked</td>\n",
              "      <td>Web</td>\n",
              "      <td>Mac Desktop</td>\n",
              "      <td>Chrome</td>\n",
              "      <td>NDF</td>\n",
              "    </tr>\n",
              "    <tr>\n",
              "      <th>1</th>\n",
              "      <td>2011-05-25</td>\n",
              "      <td>2009-05-23 17:48:09</td>\n",
              "      <td>NaT</td>\n",
              "      <td>MALE</td>\n",
              "      <td>38.0</td>\n",
              "      <td>facebook</td>\n",
              "      <td>0</td>\n",
              "      <td>en</td>\n",
              "      <td>seo</td>\n",
              "      <td>google</td>\n",
              "      <td>untracked</td>\n",
              "      <td>Web</td>\n",
              "      <td>Mac Desktop</td>\n",
              "      <td>Chrome</td>\n",
              "      <td>NDF</td>\n",
              "    </tr>\n",
              "    <tr>\n",
              "      <th>2</th>\n",
              "      <td>2010-09-28</td>\n",
              "      <td>2009-06-09 23:12:47</td>\n",
              "      <td>2010-08-02</td>\n",
              "      <td>FEMALE</td>\n",
              "      <td>56.0</td>\n",
              "      <td>basic</td>\n",
              "      <td>3</td>\n",
              "      <td>en</td>\n",
              "      <td>direct</td>\n",
              "      <td>direct</td>\n",
              "      <td>untracked</td>\n",
              "      <td>Web</td>\n",
              "      <td>Windows Desktop</td>\n",
              "      <td>IE</td>\n",
              "      <td>US</td>\n",
              "    </tr>\n",
              "    <tr>\n",
              "      <th>3</th>\n",
              "      <td>2011-12-05</td>\n",
              "      <td>2009-10-31 06:01:29</td>\n",
              "      <td>2012-09-08</td>\n",
              "      <td>FEMALE</td>\n",
              "      <td>42.0</td>\n",
              "      <td>facebook</td>\n",
              "      <td>0</td>\n",
              "      <td>en</td>\n",
              "      <td>direct</td>\n",
              "      <td>direct</td>\n",
              "      <td>untracked</td>\n",
              "      <td>Web</td>\n",
              "      <td>Mac Desktop</td>\n",
              "      <td>Firefox</td>\n",
              "      <td>other</td>\n",
              "    </tr>\n",
              "    <tr>\n",
              "      <th>4</th>\n",
              "      <td>2010-09-14</td>\n",
              "      <td>2009-12-08 06:11:05</td>\n",
              "      <td>2010-02-18</td>\n",
              "      <td>-unknown-</td>\n",
              "      <td>41.0</td>\n",
              "      <td>basic</td>\n",
              "      <td>0</td>\n",
              "      <td>en</td>\n",
              "      <td>direct</td>\n",
              "      <td>direct</td>\n",
              "      <td>untracked</td>\n",
              "      <td>Web</td>\n",
              "      <td>Mac Desktop</td>\n",
              "      <td>Chrome</td>\n",
              "      <td>US</td>\n",
              "    </tr>\n",
              "  </tbody>\n",
              "</table>\n",
              "</div>"
            ],
            "text/plain": [
              "  date_account_created timestamp_first_active  ... first_browser country_destination\n",
              "0           2010-06-28    2009-03-19 04:32:55  ...        Chrome                 NDF\n",
              "1           2011-05-25    2009-05-23 17:48:09  ...        Chrome                 NDF\n",
              "2           2010-09-28    2009-06-09 23:12:47  ...            IE                  US\n",
              "3           2011-12-05    2009-10-31 06:01:29  ...       Firefox               other\n",
              "4           2010-09-14    2009-12-08 06:11:05  ...        Chrome                  US\n",
              "\n",
              "[5 rows x 15 columns]"
            ]
          },
          "metadata": {
            "tags": []
          },
          "execution_count": 11
        }
      ]
    },
    {
      "cell_type": "code",
      "metadata": {
        "colab": {
          "base_uri": "https://localhost:8080/"
        },
        "id": "op_Ea5Zwxtds",
        "outputId": "bc394d1d-524a-4a87-d21d-e08e69a1bdf2"
      },
      "source": [
        "train_test_combin.shape"
      ],
      "execution_count": null,
      "outputs": [
        {
          "output_type": "execute_result",
          "data": {
            "text/plain": [
              "(275547, 15)"
            ]
          },
          "metadata": {
            "tags": []
          },
          "execution_count": 12
        }
      ]
    },
    {
      "cell_type": "code",
      "metadata": {
        "colab": {
          "base_uri": "https://localhost:8080/"
        },
        "id": "yHU7kH9GeGjk",
        "outputId": "5efb7c2f-02d5-440c-86d8-8d7cfbdb4977"
      },
      "source": [
        "train_test_combin.isnull().sum()"
      ],
      "execution_count": null,
      "outputs": [
        {
          "output_type": "execute_result",
          "data": {
            "text/plain": [
              "date_account_created            0\n",
              "timestamp_first_active          0\n",
              "date_first_booking         186639\n",
              "gender                          0\n",
              "age                        116866\n",
              "signup_method                   0\n",
              "signup_flow                     0\n",
              "language                        0\n",
              "affiliate_channel               0\n",
              "affiliate_provider              0\n",
              "first_affiliate_tracked      6085\n",
              "signup_app                      0\n",
              "first_device_type               0\n",
              "first_browser                   0\n",
              "country_destination         62096\n",
              "dtype: int64"
            ]
          },
          "metadata": {
            "tags": []
          },
          "execution_count": 13
        }
      ]
    },
    {
      "cell_type": "code",
      "metadata": {
        "colab": {
          "base_uri": "https://localhost:8080/"
        },
        "id": "EThN8pyGeNHZ",
        "outputId": "e54ba153-9ddd-49c2-afbc-bdaddf59ebb6"
      },
      "source": [
        "print(train_test_combin.date_account_created.min())\n",
        "print(train_test_combin.date_account_created.max())"
      ],
      "execution_count": null,
      "outputs": [
        {
          "output_type": "stream",
          "text": [
            "2010-01-01 00:00:00\n",
            "2014-09-30 00:00:00\n"
          ],
          "name": "stdout"
        }
      ]
    },
    {
      "cell_type": "code",
      "metadata": {
        "colab": {
          "base_uri": "https://localhost:8080/"
        },
        "id": "c0Kg8Wn1ePUD",
        "outputId": "343f2768-fc4f-4fb0-fa4e-04b3a4725882"
      },
      "source": [
        "train_test_combin['signup_method'].value_counts()"
      ],
      "execution_count": null,
      "outputs": [
        {
          "output_type": "execute_result",
          "data": {
            "text/plain": [
              "basic       198222\n",
              "facebook     74864\n",
              "google        2438\n",
              "weibo           23\n",
              "Name: signup_method, dtype: int64"
            ]
          },
          "metadata": {
            "tags": []
          },
          "execution_count": 15
        }
      ]
    },
    {
      "cell_type": "code",
      "metadata": {
        "colab": {
          "base_uri": "https://localhost:8080/",
          "height": 326
        },
        "id": "Nm9EUtQ7eRbR",
        "outputId": "b2ced118-c257-449a-db0d-1b1c890b0d61"
      },
      "source": [
        "train_test_combin.signup_method.value_counts(dropna=False).plot(kind='bar', color=colors)"
      ],
      "execution_count": null,
      "outputs": [
        {
          "output_type": "execute_result",
          "data": {
            "text/plain": [
              "<matplotlib.axes._subplots.AxesSubplot at 0x7f719ca7ffd0>"
            ]
          },
          "metadata": {
            "tags": []
          },
          "execution_count": 16
        },
        {
          "output_type": "display_data",
          "data": {
            "image/png": "[encoded data removed]",
            "text/plain": [
              "<Figure size 432x288 with 1 Axes>"
            ]
          },
          "metadata": {
            "tags": []
          }
        }
      ]
    },
    {
      "cell_type": "code",
      "metadata": {
        "colab": {
          "base_uri": "https://localhost:8080/",
          "height": 386
        },
        "id": "sUH_KPu7eXiV",
        "outputId": "6dcff114-c4c1-4308-8ee0-e7c19bd679a7"
      },
      "source": [
        "train_test_combin.first_device_type.value_counts(dropna=False).plot(kind='bar', color=colors)"
      ],
      "execution_count": null,
      "outputs": [
        {
          "output_type": "execute_result",
          "data": {
            "text/plain": [
              "<matplotlib.axes._subplots.AxesSubplot at 0x7f719c9da050>"
            ]
          },
          "metadata": {
            "tags": []
          },
          "execution_count": 17
        },
        {
          "output_type": "display_data",
          "data": {
            "image/png": "[encoded data removed]",
            "text/plain": [
              "<Figure size 432x288 with 1 Axes>"
            ]
          },
          "metadata": {
            "tags": []
          }
        }
      ]
    },
    {
      "cell_type": "code",
      "metadata": {
        "colab": {
          "base_uri": "https://localhost:8080/",
          "height": 511
        },
        "id": "gz084oqjebVl",
        "outputId": "5320edd0-ea83-4efb-c674-5cf427365a0b"
      },
      "source": [
        "plt.figure(figsize=(10,6))\n",
        "cd_count_idx = bookings_data['first_device_type'].value_counts().index\n",
        "sns.countplot(data = bookings_data, x = 'first_device_type', order = cd_count_idx, color = sns.color_palette()[0])\n",
        "plt.xlabel('Devices Type')\n",
        "plt.ylabel('Count')\n",
        "plt.title('Users Devices')\n",
        "plt.xticks(rotation=90)\n",
        "cd_count_val = bookings_data['first_device_type'].value_counts()\n",
        "\n",
        "for i in range(cd_count_val.shape[0]):\n",
        "    count = cd_count_val[i]\n",
        "    percentage ='{:0.1f}%'.format(100 * count / len(bookings_data))\n",
        "    plt.text(i, count+1000, percentage, ha='center')"
      ],
      "execution_count": null,
      "outputs": [
        {
          "output_type": "display_data",
          "data": {
            "image/png": "[encoded data removed]",
            "text/plain": [
              "<Figure size 720x432 with 1 Axes>"
            ]
          },
          "metadata": {
            "tags": []
          }
        }
      ]
    },
    {
      "cell_type": "code",
      "metadata": {
        "colab": {
          "base_uri": "https://localhost:8080/"
        },
        "id": "kewvRqBfedfy",
        "outputId": "a1a80cbc-3fc0-428e-9b94-3b1c6073f43f"
      },
      "source": [
        "train_test_combin['first_browser'].value_counts()"
      ],
      "execution_count": null,
      "outputs": [
        {
          "output_type": "execute_result",
          "data": {
            "text/plain": [
              "Chrome                  78671\n",
              "Safari                  53302\n",
              "-unknown-               44394\n",
              "Firefox                 38665\n",
              "Mobile Safari           29636\n",
              "IE                      24744\n",
              "Chrome Mobile            3186\n",
              "Android Browser          1577\n",
              "AOL Explorer              254\n",
              "Opera                     228\n",
              "Silk                      172\n",
              "IE Mobile                 118\n",
              "BlackBerry Browser         89\n",
              "Chromium                   83\n",
              "Mobile Firefox             64\n",
              "Maxthon                    60\n",
              "Apple Mail                 45\n",
              "Sogou Explorer             43\n",
              "SiteKiosk                  27\n",
              "Iron                       24\n",
              "RockMelt                   24\n",
              "IceWeasel                  14\n",
              "Yandex.Browser             14\n",
              "Pale Moon                  13\n",
              "SeaMonkey                  12\n",
              "CometBird                  12\n",
              "Camino                      9\n",
              "Opera Mini                  8\n",
              "TenFourFox                  8\n",
              "wOSBrowser                  7\n",
              "CoolNovo                    6\n",
              "Avant Browser               4\n",
              "Opera Mobile                4\n",
              "Mozilla                     3\n",
              "Comodo Dragon               2\n",
              "TheWorld Browser            2\n",
              "Crazy Browser               2\n",
              "Flock                       2\n",
              "OmniWeb                     2\n",
              "SlimBrowser                 2\n",
              "Googlebot                   1\n",
              "Outlook 2007                1\n",
              "NetNewsWire                 1\n",
              "IceDragon                   1\n",
              "Kindle Browser              1\n",
              "Nintendo Browser            1\n",
              "PS Vita browser             1\n",
              "IBrowse                     1\n",
              "Conkeror                    1\n",
              "Google Earth                1\n",
              "Stainless                   1\n",
              "Palm Pre web browser        1\n",
              "Arora                       1\n",
              "Epic                        1\n",
              "UC Browser                  1\n",
              "Name: first_browser, dtype: int64"
            ]
          },
          "metadata": {
            "tags": []
          },
          "execution_count": 19
        }
      ]
    },
    {
      "cell_type": "code",
      "metadata": {
        "colab": {
          "base_uri": "https://localhost:8080/",
          "height": 366
        },
        "id": "E5knlIimegjL",
        "outputId": "d1d990ae-b619-4fef-c368-239826de6c96"
      },
      "source": [
        "train_test_combin['first_browser'].value_counts().head(10).plot(kind='bar', color=colors)"
      ],
      "execution_count": null,
      "outputs": [
        {
          "output_type": "execute_result",
          "data": {
            "text/plain": [
              "<matplotlib.axes._subplots.AxesSubplot at 0x7f719c4a4ed0>"
            ]
          },
          "metadata": {
            "tags": []
          },
          "execution_count": 20
        },
        {
          "output_type": "display_data",
          "data": {
            "image/png": "[encoded data removed]",
            "text/plain": [
              "<Figure size 432x288 with 1 Axes>"
            ]
          },
          "metadata": {
            "tags": []
          }
        }
      ]
    },
    {
      "cell_type": "code",
      "metadata": {
        "colab": {
          "base_uri": "https://localhost:8080/"
        },
        "id": "5ZxSPGW2eiaO",
        "outputId": "149d5f5a-70ed-4ede-f662-f89777ad7973"
      },
      "source": [
        "train_test_combin['gender'].value_counts()"
      ],
      "execution_count": null,
      "outputs": [
        {
          "output_type": "execute_result",
          "data": {
            "text/plain": [
              "-unknown-    129480\n",
              "FEMALE        77524\n",
              "MALE          68209\n",
              "OTHER           334\n",
              "Name: gender, dtype: int64"
            ]
          },
          "metadata": {
            "tags": []
          },
          "execution_count": 21
        }
      ]
    },
    {
      "cell_type": "code",
      "metadata": {
        "colab": {
          "base_uri": "https://localhost:8080/",
          "height": 203
        },
        "id": "saJs72C5ekBK",
        "outputId": "c02701f4-e0ab-4e96-f8fd-c38b65072d5e"
      },
      "source": [
        "train_test_combin.groupby('gender').age.agg(['min','max','mean','count'])"
      ],
      "execution_count": null,
      "outputs": [
        {
          "output_type": "execute_result",
          "data": {
            "text/html": [
              "<div>\n",
              "<style scoped>\n",
              "    .dataframe tbody tr th:only-of-type {\n",
              "        vertical-align: middle;\n",
              "    }\n",
              "\n",
              "    .dataframe tbody tr th {\n",
              "        vertical-align: top;\n",
              "    }\n",
              "\n",
              "    .dataframe thead th {\n",
              "        text-align: right;\n",
              "    }\n",
              "</style>\n",
              "<table border=\"1\" class=\"dataframe\">\n",
              "  <thead>\n",
              "    <tr style=\"text-align: right;\">\n",
              "      <th></th>\n",
              "      <th>min</th>\n",
              "      <th>max</th>\n",
              "      <th>mean</th>\n",
              "      <th>count</th>\n",
              "    </tr>\n",
              "    <tr>\n",
              "      <th>gender</th>\n",
              "      <th></th>\n",
              "      <th></th>\n",
              "      <th></th>\n",
              "      <th></th>\n",
              "    </tr>\n",
              "  </thead>\n",
              "  <tbody>\n",
              "    <tr>\n",
              "      <th>-unknown-</th>\n",
              "      <td>1.0</td>\n",
              "      <td>2014.0</td>\n",
              "      <td>44.581328</td>\n",
              "      <td>22237</td>\n",
              "    </tr>\n",
              "    <tr>\n",
              "      <th>FEMALE</th>\n",
              "      <td>1.0</td>\n",
              "      <td>2014.0</td>\n",
              "      <td>49.645347</td>\n",
              "      <td>71907</td>\n",
              "    </tr>\n",
              "    <tr>\n",
              "      <th>MALE</th>\n",
              "      <td>1.0</td>\n",
              "      <td>2014.0</td>\n",
              "      <td>45.191540</td>\n",
              "      <td>64258</td>\n",
              "    </tr>\n",
              "    <tr>\n",
              "      <th>OTHER</th>\n",
              "      <td>17.0</td>\n",
              "      <td>2014.0</td>\n",
              "      <td>57.146953</td>\n",
              "      <td>279</td>\n",
              "    </tr>\n",
              "  </tbody>\n",
              "</table>\n",
              "</div>"
            ],
            "text/plain": [
              "            min     max       mean  count\n",
              "gender                                   \n",
              "-unknown-   1.0  2014.0  44.581328  22237\n",
              "FEMALE      1.0  2014.0  49.645347  71907\n",
              "MALE        1.0  2014.0  45.191540  64258\n",
              "OTHER      17.0  2014.0  57.146953    279"
            ]
          },
          "metadata": {
            "tags": []
          },
          "execution_count": 22
        }
      ]
    },
    {
      "cell_type": "code",
      "metadata": {
        "id": "RS97f0bCemr3"
      },
      "source": [
        "train_test_combin.loc[train_test_combin.age > 100, 'age'] = np.nan"
      ],
      "execution_count": null,
      "outputs": []
    },
    {
      "cell_type": "code",
      "metadata": {
        "colab": {
          "base_uri": "https://localhost:8080/",
          "height": 203
        },
        "id": "7x7EYtoqepE7",
        "outputId": "e51cc93b-451f-4628-aa22-b41ee299c9fc"
      },
      "source": [
        "train_test_combin.groupby('gender').age.agg(['min','max','mean','count'])"
      ],
      "execution_count": null,
      "outputs": [
        {
          "output_type": "execute_result",
          "data": {
            "text/html": [
              "<div>\n",
              "<style scoped>\n",
              "    .dataframe tbody tr th:only-of-type {\n",
              "        vertical-align: middle;\n",
              "    }\n",
              "\n",
              "    .dataframe tbody tr th {\n",
              "        vertical-align: top;\n",
              "    }\n",
              "\n",
              "    .dataframe thead th {\n",
              "        text-align: right;\n",
              "    }\n",
              "</style>\n",
              "<table border=\"1\" class=\"dataframe\">\n",
              "  <thead>\n",
              "    <tr style=\"text-align: right;\">\n",
              "      <th></th>\n",
              "      <th>min</th>\n",
              "      <th>max</th>\n",
              "      <th>mean</th>\n",
              "      <th>count</th>\n",
              "    </tr>\n",
              "    <tr>\n",
              "      <th>gender</th>\n",
              "      <th></th>\n",
              "      <th></th>\n",
              "      <th></th>\n",
              "      <th></th>\n",
              "    </tr>\n",
              "  </thead>\n",
              "  <tbody>\n",
              "    <tr>\n",
              "      <th>-unknown-</th>\n",
              "      <td>1.0</td>\n",
              "      <td>100.0</td>\n",
              "      <td>36.470110</td>\n",
              "      <td>21412</td>\n",
              "    </tr>\n",
              "    <tr>\n",
              "      <th>FEMALE</th>\n",
              "      <td>1.0</td>\n",
              "      <td>100.0</td>\n",
              "      <td>35.711567</td>\n",
              "      <td>70838</td>\n",
              "    </tr>\n",
              "    <tr>\n",
              "      <th>MALE</th>\n",
              "      <td>1.0</td>\n",
              "      <td>100.0</td>\n",
              "      <td>36.269660</td>\n",
              "      <td>63465</td>\n",
              "    </tr>\n",
              "    <tr>\n",
              "      <th>OTHER</th>\n",
              "      <td>17.0</td>\n",
              "      <td>78.0</td>\n",
              "      <td>35.876812</td>\n",
              "      <td>276</td>\n",
              "    </tr>\n",
              "  </tbody>\n",
              "</table>\n",
              "</div>"
            ],
            "text/plain": [
              "            min    max       mean  count\n",
              "gender                                  \n",
              "-unknown-   1.0  100.0  36.470110  21412\n",
              "FEMALE      1.0  100.0  35.711567  70838\n",
              "MALE        1.0  100.0  36.269660  63465\n",
              "OTHER      17.0   78.0  35.876812    276"
            ]
          },
          "metadata": {
            "tags": []
          },
          "execution_count": 24
        }
      ]
    },
    {
      "cell_type": "code",
      "metadata": {
        "colab": {
          "base_uri": "https://localhost:8080/",
          "height": 334
        },
        "id": "FW-owbF1erIS",
        "outputId": "bb6208f8-5d87-45a6-c6ed-1b636d70f9d1"
      },
      "source": [
        "train_test_combin['gender'].value_counts().plot(kind='bar', color=colors)"
      ],
      "execution_count": null,
      "outputs": [
        {
          "output_type": "execute_result",
          "data": {
            "text/plain": [
              "<matplotlib.axes._subplots.AxesSubplot at 0x7f719c3d77d0>"
            ]
          },
          "metadata": {
            "tags": []
          },
          "execution_count": 25
        },
        {
          "output_type": "display_data",
          "data": {
            "image/png": "[encoded data removed]",
            "text/plain": [
              "<Figure size 432x288 with 1 Axes>"
            ]
          },
          "metadata": {
            "tags": []
          }
        }
      ]
    },
    {
      "cell_type": "code",
      "metadata": {
        "colab": {
          "base_uri": "https://localhost:8080/",
          "height": 458
        },
        "id": "Vzw3POh5et6B",
        "outputId": "e0bc86e9-c022-4e11-b4fc-49d5905d785a"
      },
      "source": [
        "plt.figure(figsize=(10,6))\n",
        "cd_count_idx = train_test_combin['gender'].value_counts().index\n",
        "sns.countplot(data = train_test_combin, x = 'gender', order = cd_count_idx, color = sns.color_palette()[0])\n",
        "plt.xlabel('gender')\n",
        "plt.ylabel('Count')\n",
        "plt.title('gender')\n",
        "plt.xticks(rotation=90)\n",
        "\n",
        "cd_count_val = train_test_combin['gender'].value_counts()\n",
        "\n",
        "for i in range(cd_count_val.shape[0]):\n",
        "    count = cd_count_val[i]\n",
        "    percentage ='{:0.1f}%'.format(100 * count / len(train_test_combin))\n",
        "    plt.text(i, count+1000, percentage, ha='center')"
      ],
      "execution_count": null,
      "outputs": [
        {
          "output_type": "display_data",
          "data": {
            "image/png": "[encoded data removed]",
            "text/plain": [
              "<Figure size 720x432 with 1 Axes>"
            ]
          },
          "metadata": {
            "tags": []
          }
        }
      ]
    },
    {
      "cell_type": "code",
      "metadata": {
        "id": "WvXSJU3DewsA"
      },
      "source": [
        "# Splitting date into Day-Month-Year\n",
        "# account created\n",
        "train_test_combin['dac_year'] = train_test_combin.date_account_created.dt.year\n",
        "train_test_combin['dac_month'] = train_test_combin.date_account_created.dt.month\n",
        "train_test_combin['dac_day'] = train_test_combin.date_account_created.dt.day\n",
        "\n",
        "# Splitting date into Day-Month-Year\n",
        "# time first active\n",
        "train_test_combin['tfa_year'] = train_test_combin.timestamp_first_active.dt.year\n",
        "train_test_combin['tfa_month'] = train_test_combin.timestamp_first_active.dt.month\n",
        "train_test_combin['tfa_day'] = train_test_combin.timestamp_first_active.dt.day"
      ],
      "execution_count": null,
      "outputs": []
    },
    {
      "cell_type": "code",
      "metadata": {
        "colab": {
          "base_uri": "https://localhost:8080/",
          "height": 320
        },
        "id": "6npruyjVeyyo",
        "outputId": "d9a00d08-c16c-4b3d-afcc-38e2f58c4243"
      },
      "source": [
        "train_test_combin.dac_year.value_counts(sort=False).plot(kind='bar', title='User Accounts Created Per Year')"
      ],
      "execution_count": null,
      "outputs": [
        {
          "output_type": "execute_result",
          "data": {
            "text/plain": [
              "<matplotlib.axes._subplots.AxesSubplot at 0x7f719b8b0810>"
            ]
          },
          "metadata": {
            "tags": []
          },
          "execution_count": 28
        },
        {
          "output_type": "display_data",
          "data": {
            "image/png": "[encoded data removed]",
            "text/plain": [
              "<Figure size 432x288 with 1 Axes>"
            ]
          },
          "metadata": {
            "tags": []
          }
        }
      ]
    },
    {
      "cell_type": "code",
      "metadata": {
        "colab": {
          "base_uri": "https://localhost:8080/",
          "height": 321
        },
        "id": "Hq0kAhHue03P",
        "outputId": "14cffa4b-34ca-48db-e50f-b2fd8f3c2277"
      },
      "source": [
        "train_test_combin.country_destination.value_counts(normalize=True).plot(kind='bar',title='Countries Visited by Users')"
      ],
      "execution_count": null,
      "outputs": [
        {
          "output_type": "execute_result",
          "data": {
            "text/plain": [
              "<matplotlib.axes._subplots.AxesSubplot at 0x7f719b880e10>"
            ]
          },
          "metadata": {
            "tags": []
          },
          "execution_count": 29
        },
        {
          "output_type": "display_data",
          "data": {
            "image/png": "[encoded data removed]",
            "text/plain": [
              "<Figure size 432x288 with 1 Axes>"
            ]
          },
          "metadata": {
            "tags": []
          }
        }
      ]
    },
    {
      "cell_type": "code",
      "metadata": {
        "id": "ZsoZu3GKe2ns"
      },
      "source": [
        "X_train_data = train_df.drop(['id','date_account_created','date_first_booking','timestamp_first_active', 'country_destination'], axis=1)\n",
        "X_test_data = test_df.drop(['id','date_account_created','date_first_booking','timestamp_first_active'], axis=1)\n",
        "train_test_combin = train_test_combin.drop(['date_account_created','date_first_booking','timestamp_first_active','country_destination'], axis=1)"
      ],
      "execution_count": null,
      "outputs": []
    },
    {
      "cell_type": "code",
      "metadata": {
        "id": "XFRCe64ke4sg"
      },
      "source": [
        "# Replace unknown with NAN to avoid error \n",
        "train_test_combin.gender.replace('-unknown-', np.nan, inplace=True)\n",
        "train_test_combin.first_browser.replace('-unknown-', np.nan, inplace=True)"
      ],
      "execution_count": null,
      "outputs": []
    },
    {
      "cell_type": "markdown",
      "metadata": {
        "id": "C-_UuZ0_cJ35"
      },
      "source": [
        "**create features**"
      ]
    },
    {
      "cell_type": "code",
      "metadata": {
        "id": "lcylKEu2Zzaf"
      },
      "source": [
        "# Create Fetures categorical columns \n",
        "\n",
        "features = ['gender', 'signup_method', 'signup_flow', 'language',\n",
        "                'affiliate_channel', 'affiliate_provider',\n",
        "                'first_affiliate_tracked', 'signup_app',\n",
        "                'first_device_type', 'first_browser']\n",
        "\n",
        "# Get Dummies Convert categorical variable into dummy/indicator variables.\n",
        "\n",
        "train_test_combin = pd.get_dummies(train_test_combin,columns=features)"
      ],
      "execution_count": null,
      "outputs": []
    },
    {
      "cell_type": "code",
      "metadata": {
        "colab": {
          "base_uri": "https://localhost:8080/",
          "height": 269
        },
        "id": "GgXVa5Eze8jP",
        "outputId": "fc1c4a7d-d7c9-4cc8-e093-d45fe6138386"
      },
      "source": [
        "train_test_combin.head()"
      ],
      "execution_count": null,
      "outputs": [
        {
          "output_type": "execute_result",
          "data": {
            "text/html": [
              "<div>\n",
              "<style scoped>\n",
              "    .dataframe tbody tr th:only-of-type {\n",
              "        vertical-align: middle;\n",
              "    }\n",
              "\n",
              "    .dataframe tbody tr th {\n",
              "        vertical-align: top;\n",
              "    }\n",
              "\n",
              "    .dataframe thead th {\n",
              "        text-align: right;\n",
              "    }\n",
              "</style>\n",
              "<table border=\"1\" class=\"dataframe\">\n",
              "  <thead>\n",
              "    <tr style=\"text-align: right;\">\n",
              "      <th></th>\n",
              "      <th>age</th>\n",
              "      <th>dac_year</th>\n",
              "      <th>dac_month</th>\n",
              "      <th>dac_day</th>\n",
              "      <th>tfa_year</th>\n",
              "      <th>tfa_month</th>\n",
              "      <th>tfa_day</th>\n",
              "      <th>gender_FEMALE</th>\n",
              "      <th>gender_MALE</th>\n",
              "      <th>gender_OTHER</th>\n",
              "      <th>signup_method_basic</th>\n",
              "      <th>signup_method_facebook</th>\n",
              "      <th>signup_method_google</th>\n",
              "      <th>signup_method_weibo</th>\n",
              "      <th>signup_flow_0</th>\n",
              "      <th>signup_flow_1</th>\n",
              "      <th>signup_flow_2</th>\n",
              "      <th>signup_flow_3</th>\n",
              "      <th>signup_flow_4</th>\n",
              "      <th>signup_flow_5</th>\n",
              "      <th>signup_flow_6</th>\n",
              "      <th>signup_flow_8</th>\n",
              "      <th>signup_flow_10</th>\n",
              "      <th>signup_flow_12</th>\n",
              "      <th>signup_flow_14</th>\n",
              "      <th>signup_flow_15</th>\n",
              "      <th>signup_flow_16</th>\n",
              "      <th>signup_flow_20</th>\n",
              "      <th>signup_flow_21</th>\n",
              "      <th>signup_flow_23</th>\n",
              "      <th>signup_flow_24</th>\n",
              "      <th>signup_flow_25</th>\n",
              "      <th>language_-unknown-</th>\n",
              "      <th>language_ca</th>\n",
              "      <th>language_cs</th>\n",
              "      <th>language_da</th>\n",
              "      <th>language_de</th>\n",
              "      <th>language_el</th>\n",
              "      <th>language_en</th>\n",
              "      <th>language_es</th>\n",
              "      <th>...</th>\n",
              "      <th>first_browser_Crazy Browser</th>\n",
              "      <th>first_browser_Epic</th>\n",
              "      <th>first_browser_Firefox</th>\n",
              "      <th>first_browser_Flock</th>\n",
              "      <th>first_browser_Google Earth</th>\n",
              "      <th>first_browser_Googlebot</th>\n",
              "      <th>first_browser_IBrowse</th>\n",
              "      <th>first_browser_IE</th>\n",
              "      <th>first_browser_IE Mobile</th>\n",
              "      <th>first_browser_IceDragon</th>\n",
              "      <th>first_browser_IceWeasel</th>\n",
              "      <th>first_browser_Iron</th>\n",
              "      <th>first_browser_Kindle Browser</th>\n",
              "      <th>first_browser_Maxthon</th>\n",
              "      <th>first_browser_Mobile Firefox</th>\n",
              "      <th>first_browser_Mobile Safari</th>\n",
              "      <th>first_browser_Mozilla</th>\n",
              "      <th>first_browser_NetNewsWire</th>\n",
              "      <th>first_browser_Nintendo Browser</th>\n",
              "      <th>first_browser_OmniWeb</th>\n",
              "      <th>first_browser_Opera</th>\n",
              "      <th>first_browser_Opera Mini</th>\n",
              "      <th>first_browser_Opera Mobile</th>\n",
              "      <th>first_browser_Outlook 2007</th>\n",
              "      <th>first_browser_PS Vita browser</th>\n",
              "      <th>first_browser_Pale Moon</th>\n",
              "      <th>first_browser_Palm Pre web browser</th>\n",
              "      <th>first_browser_RockMelt</th>\n",
              "      <th>first_browser_Safari</th>\n",
              "      <th>first_browser_SeaMonkey</th>\n",
              "      <th>first_browser_Silk</th>\n",
              "      <th>first_browser_SiteKiosk</th>\n",
              "      <th>first_browser_SlimBrowser</th>\n",
              "      <th>first_browser_Sogou Explorer</th>\n",
              "      <th>first_browser_Stainless</th>\n",
              "      <th>first_browser_TenFourFox</th>\n",
              "      <th>first_browser_TheWorld Browser</th>\n",
              "      <th>first_browser_UC Browser</th>\n",
              "      <th>first_browser_Yandex.Browser</th>\n",
              "      <th>first_browser_wOSBrowser</th>\n",
              "    </tr>\n",
              "  </thead>\n",
              "  <tbody>\n",
              "    <tr>\n",
              "      <th>0</th>\n",
              "      <td>NaN</td>\n",
              "      <td>2010</td>\n",
              "      <td>6</td>\n",
              "      <td>28</td>\n",
              "      <td>2009</td>\n",
              "      <td>3</td>\n",
              "      <td>19</td>\n",
              "      <td>0</td>\n",
              "      <td>0</td>\n",
              "      <td>0</td>\n",
              "      <td>0</td>\n",
              "      <td>1</td>\n",
              "      <td>0</td>\n",
              "      <td>0</td>\n",
              "      <td>1</td>\n",
              "      <td>0</td>\n",
              "      <td>0</td>\n",
              "      <td>0</td>\n",
              "      <td>0</td>\n",
              "      <td>0</td>\n",
              "      <td>0</td>\n",
              "      <td>0</td>\n",
              "      <td>0</td>\n",
              "      <td>0</td>\n",
              "      <td>0</td>\n",
              "      <td>0</td>\n",
              "      <td>0</td>\n",
              "      <td>0</td>\n",
              "      <td>0</td>\n",
              "      <td>0</td>\n",
              "      <td>0</td>\n",
              "      <td>0</td>\n",
              "      <td>0</td>\n",
              "      <td>0</td>\n",
              "      <td>0</td>\n",
              "      <td>0</td>\n",
              "      <td>0</td>\n",
              "      <td>0</td>\n",
              "      <td>1</td>\n",
              "      <td>0</td>\n",
              "      <td>...</td>\n",
              "      <td>0</td>\n",
              "      <td>0</td>\n",
              "      <td>0</td>\n",
              "      <td>0</td>\n",
              "      <td>0</td>\n",
              "      <td>0</td>\n",
              "      <td>0</td>\n",
              "      <td>0</td>\n",
              "      <td>0</td>\n",
              "      <td>0</td>\n",
              "      <td>0</td>\n",
              "      <td>0</td>\n",
              "      <td>0</td>\n",
              "      <td>0</td>\n",
              "      <td>0</td>\n",
              "      <td>0</td>\n",
              "      <td>0</td>\n",
              "      <td>0</td>\n",
              "      <td>0</td>\n",
              "      <td>0</td>\n",
              "      <td>0</td>\n",
              "      <td>0</td>\n",
              "      <td>0</td>\n",
              "      <td>0</td>\n",
              "      <td>0</td>\n",
              "      <td>0</td>\n",
              "      <td>0</td>\n",
              "      <td>0</td>\n",
              "      <td>0</td>\n",
              "      <td>0</td>\n",
              "      <td>0</td>\n",
              "      <td>0</td>\n",
              "      <td>0</td>\n",
              "      <td>0</td>\n",
              "      <td>0</td>\n",
              "      <td>0</td>\n",
              "      <td>0</td>\n",
              "      <td>0</td>\n",
              "      <td>0</td>\n",
              "      <td>0</td>\n",
              "    </tr>\n",
              "    <tr>\n",
              "      <th>1</th>\n",
              "      <td>38.0</td>\n",
              "      <td>2011</td>\n",
              "      <td>5</td>\n",
              "      <td>25</td>\n",
              "      <td>2009</td>\n",
              "      <td>5</td>\n",
              "      <td>23</td>\n",
              "      <td>0</td>\n",
              "      <td>1</td>\n",
              "      <td>0</td>\n",
              "      <td>0</td>\n",
              "      <td>1</td>\n",
              "      <td>0</td>\n",
              "      <td>0</td>\n",
              "      <td>1</td>\n",
              "      <td>0</td>\n",
              "      <td>0</td>\n",
              "      <td>0</td>\n",
              "      <td>0</td>\n",
              "      <td>0</td>\n",
              "      <td>0</td>\n",
              "      <td>0</td>\n",
              "      <td>0</td>\n",
              "      <td>0</td>\n",
              "      <td>0</td>\n",
              "      <td>0</td>\n",
              "      <td>0</td>\n",
              "      <td>0</td>\n",
              "      <td>0</td>\n",
              "      <td>0</td>\n",
              "      <td>0</td>\n",
              "      <td>0</td>\n",
              "      <td>0</td>\n",
              "      <td>0</td>\n",
              "      <td>0</td>\n",
              "      <td>0</td>\n",
              "      <td>0</td>\n",
              "      <td>0</td>\n",
              "      <td>1</td>\n",
              "      <td>0</td>\n",
              "      <td>...</td>\n",
              "      <td>0</td>\n",
              "      <td>0</td>\n",
              "      <td>0</td>\n",
              "      <td>0</td>\n",
              "      <td>0</td>\n",
              "      <td>0</td>\n",
              "      <td>0</td>\n",
              "      <td>0</td>\n",
              "      <td>0</td>\n",
              "      <td>0</td>\n",
              "      <td>0</td>\n",
              "      <td>0</td>\n",
              "      <td>0</td>\n",
              "      <td>0</td>\n",
              "      <td>0</td>\n",
              "      <td>0</td>\n",
              "      <td>0</td>\n",
              "      <td>0</td>\n",
              "      <td>0</td>\n",
              "      <td>0</td>\n",
              "      <td>0</td>\n",
              "      <td>0</td>\n",
              "      <td>0</td>\n",
              "      <td>0</td>\n",
              "      <td>0</td>\n",
              "      <td>0</td>\n",
              "      <td>0</td>\n",
              "      <td>0</td>\n",
              "      <td>0</td>\n",
              "      <td>0</td>\n",
              "      <td>0</td>\n",
              "      <td>0</td>\n",
              "      <td>0</td>\n",
              "      <td>0</td>\n",
              "      <td>0</td>\n",
              "      <td>0</td>\n",
              "      <td>0</td>\n",
              "      <td>0</td>\n",
              "      <td>0</td>\n",
              "      <td>0</td>\n",
              "    </tr>\n",
              "    <tr>\n",
              "      <th>2</th>\n",
              "      <td>56.0</td>\n",
              "      <td>2010</td>\n",
              "      <td>9</td>\n",
              "      <td>28</td>\n",
              "      <td>2009</td>\n",
              "      <td>6</td>\n",
              "      <td>9</td>\n",
              "      <td>1</td>\n",
              "      <td>0</td>\n",
              "      <td>0</td>\n",
              "      <td>1</td>\n",
              "      <td>0</td>\n",
              "      <td>0</td>\n",
              "      <td>0</td>\n",
              "      <td>0</td>\n",
              "      <td>0</td>\n",
              "      <td>0</td>\n",
              "      <td>1</td>\n",
              "      <td>0</td>\n",
              "      <td>0</td>\n",
              "      <td>0</td>\n",
              "      <td>0</td>\n",
              "      <td>0</td>\n",
              "      <td>0</td>\n",
              "      <td>0</td>\n",
              "      <td>0</td>\n",
              "      <td>0</td>\n",
              "      <td>0</td>\n",
              "      <td>0</td>\n",
              "      <td>0</td>\n",
              "      <td>0</td>\n",
              "      <td>0</td>\n",
              "      <td>0</td>\n",
              "      <td>0</td>\n",
              "      <td>0</td>\n",
              "      <td>0</td>\n",
              "      <td>0</td>\n",
              "      <td>0</td>\n",
              "      <td>1</td>\n",
              "      <td>0</td>\n",
              "      <td>...</td>\n",
              "      <td>0</td>\n",
              "      <td>0</td>\n",
              "      <td>0</td>\n",
              "      <td>0</td>\n",
              "      <td>0</td>\n",
              "      <td>0</td>\n",
              "      <td>0</td>\n",
              "      <td>1</td>\n",
              "      <td>0</td>\n",
              "      <td>0</td>\n",
              "      <td>0</td>\n",
              "      <td>0</td>\n",
              "      <td>0</td>\n",
              "      <td>0</td>\n",
              "      <td>0</td>\n",
              "      <td>0</td>\n",
              "      <td>0</td>\n",
              "      <td>0</td>\n",
              "      <td>0</td>\n",
              "      <td>0</td>\n",
              "      <td>0</td>\n",
              "      <td>0</td>\n",
              "      <td>0</td>\n",
              "      <td>0</td>\n",
              "      <td>0</td>\n",
              "      <td>0</td>\n",
              "      <td>0</td>\n",
              "      <td>0</td>\n",
              "      <td>0</td>\n",
              "      <td>0</td>\n",
              "      <td>0</td>\n",
              "      <td>0</td>\n",
              "      <td>0</td>\n",
              "      <td>0</td>\n",
              "      <td>0</td>\n",
              "      <td>0</td>\n",
              "      <td>0</td>\n",
              "      <td>0</td>\n",
              "      <td>0</td>\n",
              "      <td>0</td>\n",
              "    </tr>\n",
              "    <tr>\n",
              "      <th>3</th>\n",
              "      <td>42.0</td>\n",
              "      <td>2011</td>\n",
              "      <td>12</td>\n",
              "      <td>5</td>\n",
              "      <td>2009</td>\n",
              "      <td>10</td>\n",
              "      <td>31</td>\n",
              "      <td>1</td>\n",
              "      <td>0</td>\n",
              "      <td>0</td>\n",
              "      <td>0</td>\n",
              "      <td>1</td>\n",
              "      <td>0</td>\n",
              "      <td>0</td>\n",
              "      <td>1</td>\n",
              "      <td>0</td>\n",
              "      <td>0</td>\n",
              "      <td>0</td>\n",
              "      <td>0</td>\n",
              "      <td>0</td>\n",
              "      <td>0</td>\n",
              "      <td>0</td>\n",
              "      <td>0</td>\n",
              "      <td>0</td>\n",
              "      <td>0</td>\n",
              "      <td>0</td>\n",
              "      <td>0</td>\n",
              "      <td>0</td>\n",
              "      <td>0</td>\n",
              "      <td>0</td>\n",
              "      <td>0</td>\n",
              "      <td>0</td>\n",
              "      <td>0</td>\n",
              "      <td>0</td>\n",
              "      <td>0</td>\n",
              "      <td>0</td>\n",
              "      <td>0</td>\n",
              "      <td>0</td>\n",
              "      <td>1</td>\n",
              "      <td>0</td>\n",
              "      <td>...</td>\n",
              "      <td>0</td>\n",
              "      <td>0</td>\n",
              "      <td>1</td>\n",
              "      <td>0</td>\n",
              "      <td>0</td>\n",
              "      <td>0</td>\n",
              "      <td>0</td>\n",
              "      <td>0</td>\n",
              "      <td>0</td>\n",
              "      <td>0</td>\n",
              "      <td>0</td>\n",
              "      <td>0</td>\n",
              "      <td>0</td>\n",
              "      <td>0</td>\n",
              "      <td>0</td>\n",
              "      <td>0</td>\n",
              "      <td>0</td>\n",
              "      <td>0</td>\n",
              "      <td>0</td>\n",
              "      <td>0</td>\n",
              "      <td>0</td>\n",
              "      <td>0</td>\n",
              "      <td>0</td>\n",
              "      <td>0</td>\n",
              "      <td>0</td>\n",
              "      <td>0</td>\n",
              "      <td>0</td>\n",
              "      <td>0</td>\n",
              "      <td>0</td>\n",
              "      <td>0</td>\n",
              "      <td>0</td>\n",
              "      <td>0</td>\n",
              "      <td>0</td>\n",
              "      <td>0</td>\n",
              "      <td>0</td>\n",
              "      <td>0</td>\n",
              "      <td>0</td>\n",
              "      <td>0</td>\n",
              "      <td>0</td>\n",
              "      <td>0</td>\n",
              "    </tr>\n",
              "    <tr>\n",
              "      <th>4</th>\n",
              "      <td>41.0</td>\n",
              "      <td>2010</td>\n",
              "      <td>9</td>\n",
              "      <td>14</td>\n",
              "      <td>2009</td>\n",
              "      <td>12</td>\n",
              "      <td>8</td>\n",
              "      <td>0</td>\n",
              "      <td>0</td>\n",
              "      <td>0</td>\n",
              "      <td>1</td>\n",
              "      <td>0</td>\n",
              "      <td>0</td>\n",
              "      <td>0</td>\n",
              "      <td>1</td>\n",
              "      <td>0</td>\n",
              "      <td>0</td>\n",
              "      <td>0</td>\n",
              "      <td>0</td>\n",
              "      <td>0</td>\n",
              "      <td>0</td>\n",
              "      <td>0</td>\n",
              "      <td>0</td>\n",
              "      <td>0</td>\n",
              "      <td>0</td>\n",
              "      <td>0</td>\n",
              "      <td>0</td>\n",
              "      <td>0</td>\n",
              "      <td>0</td>\n",
              "      <td>0</td>\n",
              "      <td>0</td>\n",
              "      <td>0</td>\n",
              "      <td>0</td>\n",
              "      <td>0</td>\n",
              "      <td>0</td>\n",
              "      <td>0</td>\n",
              "      <td>0</td>\n",
              "      <td>0</td>\n",
              "      <td>1</td>\n",
              "      <td>0</td>\n",
              "      <td>...</td>\n",
              "      <td>0</td>\n",
              "      <td>0</td>\n",
              "      <td>0</td>\n",
              "      <td>0</td>\n",
              "      <td>0</td>\n",
              "      <td>0</td>\n",
              "      <td>0</td>\n",
              "      <td>0</td>\n",
              "      <td>0</td>\n",
              "      <td>0</td>\n",
              "      <td>0</td>\n",
              "      <td>0</td>\n",
              "      <td>0</td>\n",
              "      <td>0</td>\n",
              "      <td>0</td>\n",
              "      <td>0</td>\n",
              "      <td>0</td>\n",
              "      <td>0</td>\n",
              "      <td>0</td>\n",
              "      <td>0</td>\n",
              "      <td>0</td>\n",
              "      <td>0</td>\n",
              "      <td>0</td>\n",
              "      <td>0</td>\n",
              "      <td>0</td>\n",
              "      <td>0</td>\n",
              "      <td>0</td>\n",
              "      <td>0</td>\n",
              "      <td>0</td>\n",
              "      <td>0</td>\n",
              "      <td>0</td>\n",
              "      <td>0</td>\n",
              "      <td>0</td>\n",
              "      <td>0</td>\n",
              "      <td>0</td>\n",
              "      <td>0</td>\n",
              "      <td>0</td>\n",
              "      <td>0</td>\n",
              "      <td>0</td>\n",
              "      <td>0</td>\n",
              "    </tr>\n",
              "  </tbody>\n",
              "</table>\n",
              "<p>5 rows × 158 columns</p>\n",
              "</div>"
            ],
            "text/plain": [
              "    age  dac_year  ...  first_browser_Yandex.Browser  first_browser_wOSBrowser\n",
              "0   NaN      2010  ...                             0                         0\n",
              "1  38.0      2011  ...                             0                         0\n",
              "2  56.0      2010  ...                             0                         0\n",
              "3  42.0      2011  ...                             0                         0\n",
              "4  41.0      2010  ...                             0                         0\n",
              "\n",
              "[5 rows x 158 columns]"
            ]
          },
          "metadata": {
            "tags": []
          },
          "execution_count": 33
        }
      ]
    },
    {
      "cell_type": "markdown",
      "metadata": {
        "id": "thF0osyQcTgz"
      },
      "source": [
        "**xgboost**"
      ]
    },
    {
      "cell_type": "code",
      "metadata": {
        "id": "CKqtnGSlcViq"
      },
      "source": [
        "from xgboost.sklearn import XGBClassifier\n",
        "from sklearn.preprocessing import LabelEncoder"
      ],
      "execution_count": null,
      "outputs": []
    },
    {
      "cell_type": "code",
      "metadata": {
        "id": "LyFKp_EkdKgd"
      },
      "source": [
        "train_df_rows_no = train_df.shape[0]  \n",
        "\n",
        "# Splitting the data into train and test again for the classifier\n",
        "# rows number of train data will be used for splitting\n",
        "\n",
        "# convert train_test_combin dataset into list\n",
        "all_data_list = train_test_combin.values\n",
        "X_train = all_data_list[:train_df_rows_no] #213451\n",
        "X_test = all_data_list[train_df_rows_no:] # 213451\n",
        "\n",
        "#Create labels\n",
        "#labels = train_df['country_destination'].values\n",
        "labler = LabelEncoder()\n",
        "y = labler.fit_transform(train_df['country_destination'].values)\n",
        "\n",
        "# Implementation of the classifier (decision tree)\n",
        "xgb = XGBClassifier(max_depth=6, learning_rate=0.3, n_estimators=22,\n",
        "                    objective='multi:softprob', subsample=0.6, colsample_bytree=0.6, seed=0)               \n",
        "xgb.fit(X_train, y)\n",
        "y_pred = xgb.predict_proba(X_test) "
      ],
      "execution_count": null,
      "outputs": []
    },
    {
      "cell_type": "code",
      "metadata": {
        "id": "UmGQolhtdM-W"
      },
      "source": [
        "#Taking the 5 classes with highest probabilities\n",
        "# the requirements is to predict 5 predicts for each ID (user)\n",
        "# so we will predict 5 times and save the result for each user \n",
        "\n",
        "test_ids = test_df['id']\n",
        "ids = []  #list of ids\n",
        "cts = []  #list of countries\n",
        "for i in range(len(test_ids)):\n",
        "    idx = test_ids[i]\n",
        "    ids += [idx] * 5\n",
        "    #save 5 results for each user \n",
        "    cts += labler.inverse_transform(np.argsort(y_pred[i])[::-1])[:5].tolist()\n",
        "\n",
        "#Generate submission\n",
        "sub = pd.DataFrame(np.column_stack((ids, cts)), columns=['id', 'country'])\n",
        "sub.to_csv('submission.csv',index=False)"
      ],
      "execution_count": null,
      "outputs": []
    }
  ]
}